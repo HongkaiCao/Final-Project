{
 "cells": [
  {
   "cell_type": "markdown",
   "metadata": {},
   "source": [
    "## MTH9845 Risk Management Model Validation report\n"
   ]
  },
  {
   "cell_type": "markdown",
   "metadata": {},
   "source": [
    "* Author: Hongchao Pan, Yu Sun\n",
    "* Kernel version: Python 3.5\n",
    "* Packages: numpy, pandas, matplotlib, scipy, math\n",
    "* Data: \n",
    "    * Volatility matrices of EUR/USD and GBP/USD were obtained from Bloomberg\n",
    "    * Benchmark prices were obtained from Bloomberg pricing model and *investing.com*\n",
    "    * Interest rates (foreign and domestic) were obtained from *tradingeconomics.com*\n",
    "* Notes:\n"
   ]
  },
  {
   "cell_type": "code",
   "execution_count": 1,
   "metadata": {
    "collapsed": true
   },
   "outputs": [],
   "source": [
    "# Loading packages\n",
    "import pandas as pd\n",
    "import numpy as np\n",
    "import matplotlib.pyplot as plt\n",
    "from scipy.stats import norm\n",
    "import math"
   ]
  },
  {
   "cell_type": "code",
   "execution_count": 2,
   "metadata": {
    "collapsed": false
   },
   "outputs": [
    {
     "data": {
      "text/html": [
       "<div>\n",
       "<table border=\"1\" class=\"dataframe\">\n",
       "  <thead>\n",
       "    <tr style=\"text-align: right;\">\n",
       "      <th></th>\n",
       "      <th>Mid Vol</th>\n",
       "      <th>ATM</th>\n",
       "      <th>25DRR</th>\n",
       "      <th>25DBF</th>\n",
       "      <th>10DRR</th>\n",
       "      <th>10DBF</th>\n",
       "      <th>25DC</th>\n",
       "      <th>25DP</th>\n",
       "      <th>10DC</th>\n",
       "      <th>10DP</th>\n",
       "    </tr>\n",
       "  </thead>\n",
       "  <tbody>\n",
       "    <tr>\n",
       "      <th>0</th>\n",
       "      <td>EUR/USD</td>\n",
       "      <td>0.071125</td>\n",
       "      <td>0.000900</td>\n",
       "      <td>0.001925</td>\n",
       "      <td>0.001450</td>\n",
       "      <td>0.00570</td>\n",
       "      <td>0.073500</td>\n",
       "      <td>0.072600</td>\n",
       "      <td>0.077550</td>\n",
       "      <td>0.076100</td>\n",
       "    </tr>\n",
       "    <tr>\n",
       "      <th>1</th>\n",
       "      <td>GBP/USD</td>\n",
       "      <td>0.067125</td>\n",
       "      <td>-0.002800</td>\n",
       "      <td>0.002275</td>\n",
       "      <td>-0.004825</td>\n",
       "      <td>0.00635</td>\n",
       "      <td>0.068000</td>\n",
       "      <td>0.070800</td>\n",
       "      <td>0.071063</td>\n",
       "      <td>0.075887</td>\n",
       "    </tr>\n",
       "    <tr>\n",
       "      <th>2</th>\n",
       "      <td>USD/JPY</td>\n",
       "      <td>0.082550</td>\n",
       "      <td>-0.004125</td>\n",
       "      <td>0.002225</td>\n",
       "      <td>-0.007750</td>\n",
       "      <td>0.00615</td>\n",
       "      <td>0.082712</td>\n",
       "      <td>0.086837</td>\n",
       "      <td>0.084825</td>\n",
       "      <td>0.092575</td>\n",
       "    </tr>\n",
       "  </tbody>\n",
       "</table>\n",
       "</div>"
      ],
      "text/plain": [
       "   Mid Vol       ATM     25DRR     25DBF     10DRR    10DBF      25DC  \\\n",
       "0  EUR/USD  0.071125  0.000900  0.001925  0.001450  0.00570  0.073500   \n",
       "1  GBP/USD  0.067125 -0.002800  0.002275 -0.004825  0.00635  0.068000   \n",
       "2  USD/JPY  0.082550 -0.004125  0.002225 -0.007750  0.00615  0.082712   \n",
       "\n",
       "       25DP      10DC      10DP  \n",
       "0  0.072600  0.077550  0.076100  \n",
       "1  0.070800  0.071063  0.075887  \n",
       "2  0.086837  0.084825  0.092575  "
      ]
     },
     "execution_count": 2,
     "metadata": {},
     "output_type": "execute_result"
    }
   ],
   "source": [
    "# Get the data from excel file\n",
    "df=pd.read_excel(io='Testing-data/VolMatrix/Vol-matrix.xlsx',sheetname=0,parse_cols=\"A:F\",skiprows=2)\n",
    "df['25DC']=df['ATM']+df['25DBF']+0.5*df['25DRR']\n",
    "df['25DP']=df['ATM']+df['25DBF']-0.5*df['25DRR']\n",
    "df['10DC']=df['ATM']+df['10DBF']+0.5*df['10DRR']\n",
    "df['10DP']=df['ATM']+df['10DBF']-0.5*df['10DRR']\n",
    "df.iloc[:,1:]=df.iloc[:,1:]/100  # Change the percentage number to decimal\n",
    "df"
   ]
  },
  {
   "cell_type": "code",
   "execution_count": 3,
   "metadata": {
    "collapsed": false
   },
   "outputs": [
    {
     "data": {
      "text/html": [
       "<div>\n",
       "<table border=\"1\" class=\"dataframe\">\n",
       "  <thead>\n",
       "    <tr style=\"text-align: right;\">\n",
       "      <th></th>\n",
       "      <th>Mid Vol</th>\n",
       "      <th>ATM</th>\n",
       "      <th>25DRR</th>\n",
       "      <th>25DBF</th>\n",
       "      <th>10DRR</th>\n",
       "      <th>10DBF</th>\n",
       "      <th>25DC</th>\n",
       "      <th>25DP</th>\n",
       "      <th>10DC</th>\n",
       "      <th>10DP</th>\n",
       "    </tr>\n",
       "  </thead>\n",
       "  <tbody>\n",
       "    <tr>\n",
       "      <th>0</th>\n",
       "      <td>EUR/USD</td>\n",
       "      <td>0.07415</td>\n",
       "      <td>-0.00685</td>\n",
       "      <td>0.00325</td>\n",
       "      <td>-0.01175</td>\n",
       "      <td>0.01065</td>\n",
       "      <td>0.073975</td>\n",
       "      <td>0.080825</td>\n",
       "      <td>0.078925</td>\n",
       "      <td>0.090675</td>\n",
       "    </tr>\n",
       "  </tbody>\n",
       "</table>\n",
       "</div>"
      ],
      "text/plain": [
       "   Mid Vol      ATM    25DRR    25DBF    10DRR    10DBF      25DC      25DP  \\\n",
       "0  EUR/USD  0.07415 -0.00685  0.00325 -0.01175  0.01065  0.073975  0.080825   \n",
       "\n",
       "       10DC      10DP  \n",
       "0  0.078925  0.090675  "
      ]
     },
     "execution_count": 3,
     "metadata": {},
     "output_type": "execute_result"
    }
   ],
   "source": [
    "# Get the data from excel file 1Y data\n",
    "df2=pd.read_excel(io='Testing-data/VolMatrix/Vol-matrix_1Y.xlsx',sheetname=0,parse_cols=\"A:F\",skiprows=1)\n",
    "df2['25DC']=df2['ATM']+df2['25DBF']+0.5*df2['25DRR']\n",
    "df2['25DP']=df2['ATM']+df2['25DBF']-0.5*df2['25DRR']\n",
    "df2['10DC']=df2['ATM']+df2['10DBF']+0.5*df2['10DRR']\n",
    "df2['10DP']=df2['ATM']+df2['10DBF']-0.5*df2['10DRR']\n",
    "df2.iloc[:,1:]=df2.iloc[:,1:]/100  # Change the percentage number to decimal\n",
    "df2"
   ]
  },
  {
   "cell_type": "code",
   "execution_count": 4,
   "metadata": {
    "collapsed": true
   },
   "outputs": [],
   "source": [
    "# K is given with the reference on inversting.com\n",
    "K_ATMEURUSD=[1.065,1.07,1.075,1.08,1.085]\n",
    "#K_ATMGBPUSD=[1.27,1.275,1.28,1.285,1.29]\n",
    "K_ATMUSDJPY=[110,110.5,112,112.5,113]\n",
    "# 1Y\n",
    "K_ATMEURUSD1Y=[1.05,1.06,1.07,1.08,1.09]\n",
    "# Delta\n",
    "Deltas=[0.25,0.1]\n",
    "# S0\n",
    "S0s=[1.0867,1.2933,113.38]\n",
    "    #EURUSD,GBP/USD\n",
    "S0s1Y=[1.0923] #EURUSD\n",
    "T=33/360 # 33days\n",
    "T1Y=367/360 # 1Y\n",
    "# foregin/domestic interest rates\n",
    "# LIBOR: USD, EUR, GBP, JPY, CHF\n",
    "# 1M\n",
    "rfs=[-0.40429/100,0.25513/100,1/100] # EUR,GBP,USD\n",
    "rds=[0.99244/100,1/100,-0.01821/100] # USD,USD,JPY"
   ]
  },
  {
   "cell_type": "code",
   "execution_count": 5,
   "metadata": {
    "collapsed": true
   },
   "outputs": [],
   "source": [
    "# Implement the Black-Scholes model in FX derivetives\n",
    "# The volatility used for BS is ATM vol\n",
    "# Define d1\n",
    "def d_1(t,S,K,T,sigma,rd,rf):\n",
    "    '''\n",
    "    param t: spot time, usually is 0\n",
    "    param S: spot price: exchange rate\n",
    "    param K: given strike\n",
    "    param T: maturity with unit year\n",
    "    param sigma: volatility\n",
    "    param rd: domestic interest rate\n",
    "    param rf: foreign interest rate\n",
    "    return d1 in BS formula\n",
    "    '''\n",
    "    return (math.log(S/K)+(rd-rf+0.5*math.pow(sigma,2))*(T-t))/(sigma*math.sqrt(T-t))\n",
    "\n",
    "def BS_FX(t,S,K,T,sigma,rd,rf,flag,optflag):\n",
    "    '''\n",
    "    param t: spot time, usually is 0\n",
    "    param S: spot price: exchange rate\n",
    "    param K: given strike\n",
    "    param T: maturity with unit year\n",
    "    param sigma: volatility\n",
    "    param rd: domestic interest rate\n",
    "    param rf: foreign interest rate\n",
    "    param flag: call/put indicator\n",
    "    param optflag: output price or greeks\n",
    "    '''\n",
    "    d1=d_1(t,S,K,T,sigma,rd,rf)\n",
    "    d2=d1-sigma*np.sqrt(T-t)\n",
    "    \n",
    "    call_price=S*math.exp(-rf*(T-t))*norm.cdf(d1)-K*math.exp(-rd*(T-t))*norm.cdf(d2)\n",
    "    put_price=K*math.exp(-rd*(T-t))*norm.cdf(-d2)-S*math.exp(-rf*(T-t))*norm.cdf(-d1)\n",
    "    \n",
    "    vega=S*math.exp(-rf*(T-t))*math.sqrt(T-t)*math.exp(-0.5*d1*d1)/math.sqrt(2*math.pi)\n",
    "    \n",
    "    if optflag.upper() =='VEGA':\n",
    "        return vega\n",
    "    if optflag.upper() == 'PRICE':\n",
    "        if flag.upper() == 'CALL':\n",
    "            return call_price\n",
    "        if flag.upper() ==\"PUT\":\n",
    "            return put_price"
   ]
  },
  {
   "cell_type": "code",
   "execution_count": 6,
   "metadata": {
    "collapsed": true
   },
   "outputs": [],
   "source": [
    "# Define functions to compute Vanna and Volga\n",
    "def Vanna_Volga(t,S,K,T,sigma,rd,rf,flag,optflag):\n",
    "    '''\n",
    "    param t: spot time, usually is 0\n",
    "    param S: spot price: exchange rate\n",
    "    param K: given strike\n",
    "    param T: maturity with unit year\n",
    "    param sigma: volatility\n",
    "    param rd: domestic interest rate\n",
    "    param rf: foreign interest rate\n",
    "    param flag: call/put indicator\n",
    "    param optflag: output Vanna or Volga\n",
    "    '''\n",
    "    d1=d_1(t,S,K,T,sigma,rd,rf)\n",
    "    d2=d1-sigma*np.sqrt(T-t)\n",
    "    \n",
    "    vega=BS_FX(t,S,K,T,sigma,rd,rf,flag,\"VEGA\")\n",
    "    \n",
    "    vanna=-vega*d2/(S*sigma*np.sqrt(T-t))\n",
    "    \n",
    "    volga= vega*d1*d2/sigma\n",
    "    \n",
    "    if optflag.upper()==\"VANNA\":\n",
    "        return vanna\n",
    "    if optflag.upper()==\"VOLGA\":\n",
    "        return volga\n",
    "     "
   ]
  },
  {
   "cell_type": "code",
   "execution_count": 7,
   "metadata": {
    "collapsed": true
   },
   "outputs": [],
   "source": [
    "# Define function to compute Kc and Kp\n",
    "def K_cp(t,S,T,sigma,rd,rf,flag,Delta):\n",
    "    '''\n",
    "    param t: spot time, usually is 0\n",
    "    param S: spot price: exchange rate\n",
    "    param T: maturity with unit year\n",
    "    param sigma: volatility\n",
    "    param rd: domestic interest rate\n",
    "    param rf: foreign interest rate\n",
    "    param flag: call/put indicator\n",
    "    param Delta: Delta 0.25 or 0.1\n",
    "    '''\n",
    "\n",
    "    if flag.upper()==\"PUT\":\n",
    "        phi=1\n",
    "    if flag.upper()==\"CALL\":\n",
    "        phi=1\n",
    "    \n",
    "    K=S*np.exp((rd-rf)*T-phi*sigma*np.sqrt(T)*norm.ppf(phi*Delta)+0.5*sigma*sigma*T)\n",
    "#    print(S,rd,rf,phi,sigma,T,Delta)\n",
    "    \n",
    "    return K"
   ]
  },
  {
   "cell_type": "code",
   "execution_count": 8,
   "metadata": {
    "collapsed": true
   },
   "outputs": [],
   "source": [
    "# Implement Vanna-Volga model\n",
    "def VannaVolga_Pricing(K_ATMs,S0,T,rd,rf,vols):\n",
    "    '''\n",
    "    param vols: contains vol of ATM, 25DC, 25DP, 10DC, 10DP\n",
    "    '''\n",
    "    price=[]\n",
    "    # Compute the K25C, K25P, K10C, K10P\n",
    "    K25C=K_cp(0,S0,T,vols[1],rd,rf,\"CALL\",0.25)\n",
    "    K25P=K_cp(0,S0,T,vols[2],rd,rf,\"PUT\",0.25)\n",
    "    K10C=K_cp(0,S0,T,vols[3],rd,rf,\"CALL\",0.1)\n",
    "    K10P=K_cp(0,S0,T,vols[4],rd,rf,\"PUT\",0.1)\n",
    "\n",
    "    for K in K_ATMs:\n",
    "        BS_X=BS_FX(0,S0,K,T,vols[0],rd,rf,\"CALL\",\"PRICE\")\n",
    "        vanna_X=Vanna_Volga(0,S0,K,T,vols[0],rd,rf,\"CALL\",\"VANNA\")\n",
    "        volga_X=Vanna_Volga(0,S0,K,T,vols[0],rd,rf,\"CALL\",\"VOLGA\")\n",
    "        vanna_25=Vanna_Volga(0,S0,K,T,vols[1],rd,rf,\"CALL\",\"VANNA\")\n",
    "        volga_25=Vanna_Volga(0,S0,K,T,vols[1],rd,rf,\"CALL\",\"VOLGA\")\n",
    "        vanna_10=Vanna_Volga(0,S0,K,T,vols[2],rd,rf,\"CALL\",\"VANNA\")\n",
    "        volga_10=Vanna_Volga(0,S0,K,T,vols[2],rd,rf,\"CALL\",\"VOLGA\")\n",
    "        \n",
    "        BS_25C=BS_FX(0,S0,K25C,T,vols[1],rd,rf,\"CALL\",\"PRICE\")\n",
    "        BS_25P=BS_FX(0,S0,K25P,T,vols[2],rd,rf,\"PUT\",\"PRICE\")\n",
    "        BS_10C=BS_FX(0,S0,K10C,T,vols[3],rd,rf,\"CALL\",\"PRICE\")\n",
    "        BS_10P=BS_FX(0,S0,K10P,T,vols[4],rd,rf,\"PUT\",\"PRICE\")\n",
    "        \n",
    "        BS_25CATM=BS_FX(0,S0,K25C,T,vols[0],rd,rf,\"CALL\",\"PRICE\")\n",
    "        BS_25PATM=BS_FX(0,S0,K25P,T,vols[0],rd,rf,\"PUT\",\"PRICE\")\n",
    "        BS_10CATM=BS_FX(0,S0,K10C,T,vols[0],rd,rf,\"CALL\",\"PRICE\")\n",
    "        BS_10PATM=BS_FX(0,S0,K10P,T,vols[0],rd,rf,\"PUT\",\"PRICE\")\n",
    "        \n",
    "        RR_cost25=(BS_25C-BS_25P)-(BS_25CATM-BS_25PATM)\n",
    "        BF_cost25=0.5*(BS_25C+BS_25P)-0.5*(BS_25CATM+BS_25PATM)\n",
    "        RR_cost10=(BS_10C-BS_10P)-(BS_10CATM-BS_10PATM)\n",
    "        BF_cost10=0.5*(BS_10C+BS_10P)-0.5*(BS_10CATM+BS_10PATM)\n",
    "        \n",
    "#        print(K10P)\n",
    "        P_VV=BS_X+vanna_X*RR_cost25/vanna_25+volga_X*BF_cost25/volga_25+vanna_X*RR_cost10/vanna_10+volga_X*BF_cost10/volga_10\n",
    "        \n",
    "        price.append(P_VV)\n",
    "    \n",
    "    return price\n",
    "        \n",
    "        "
   ]
  },
  {
   "cell_type": "code",
   "execution_count": 9,
   "metadata": {
    "collapsed": false
   },
   "outputs": [],
   "source": [
    "# Get the indices of vols\n",
    "ind=[1,6,7,8,9]\n",
    "vol_EURUSD=[df.iloc[0,i] for i in ind ]\n",
    "#vol_GBPUSD=[df.iloc[1,i] for i in ind ]\n",
    "vol_USDJPY=[df.iloc[0,i] for i in ind ]\n",
    "\n",
    "# Get the price of EUR/USD\n",
    "price_EURUSD=VannaVolga_Pricing(K_ATMEURUSD,S0s[0],T,rds[0],rfs[0],vol_EURUSD)\n",
    "price_EURUSD=[i/S0s[0] for i in price_EURUSD]\n",
    "# Get the price of GBP/USD\n",
    "#price_GBPUSD=VannaVolga_Pricing(K_ATMGBPUSD,S0s[1],T,rds[1],rfs[1],vol_GBPUSD)\n",
    "#price_GBPUSD=[i/S0s[1] for i in price_EURUSD]\n",
    "\n",
    "# Get the BS price of EUR/USD\n",
    "BS_EURUSD=[BS_FX(0,S0s[0],K,T,vol_EURUSD[0],rds[0],rfs[0],\"CALL\",\"PRICE\") for K in K_ATMEURUSD]\n",
    "\n",
    "# Get the BS price of GBP/USD\n",
    "#BS_GBPUSD=[BS_FX(0,S0s[1],K,T,vol_GBPUSD[0],rds[1],rfs[1],\"CALL\",\"PRICE\") for K in K_ATMGBPUSD]\n",
    "\n",
    "# Get the price of USD/JPY\n",
    "#price_USDJPY=VannaVolga_Pricing(K_ATMUSDJPY,S0s[2],T,rds[2],rfs[2],vol_USDJPY)\n",
    "#price_USDJPY=[i/S0s[2] for i in price_USDJPY]\n",
    "#price_USDJPY"
   ]
  },
  {
   "cell_type": "code",
   "execution_count": 10,
   "metadata": {
    "collapsed": false
   },
   "outputs": [
    {
     "data": {
      "text/html": [
       "<div>\n",
       "<table border=\"1\" class=\"dataframe\">\n",
       "  <thead>\n",
       "    <tr style=\"text-align: right;\">\n",
       "      <th></th>\n",
       "      <th>EURUSD Strike</th>\n",
       "      <th>Heston Price</th>\n",
       "      <th>investing.com Price</th>\n",
       "      <th>BS Price</th>\n",
       "      <th>VV Price</th>\n",
       "    </tr>\n",
       "  </thead>\n",
       "  <tbody>\n",
       "    <tr>\n",
       "      <th>0</th>\n",
       "      <td>1.065</td>\n",
       "      <td>0.022874</td>\n",
       "      <td>0.0233</td>\n",
       "      <td>0.025015</td>\n",
       "      <td>0.023669</td>\n",
       "    </tr>\n",
       "    <tr>\n",
       "      <th>1</th>\n",
       "      <td>1.070</td>\n",
       "      <td>0.018981</td>\n",
       "      <td>0.0195</td>\n",
       "      <td>0.020973</td>\n",
       "      <td>0.019956</td>\n",
       "    </tr>\n",
       "    <tr>\n",
       "      <th>2</th>\n",
       "      <td>1.075</td>\n",
       "      <td>0.015359</td>\n",
       "      <td>0.0160</td>\n",
       "      <td>0.017252</td>\n",
       "      <td>0.016537</td>\n",
       "    </tr>\n",
       "    <tr>\n",
       "      <th>3</th>\n",
       "      <td>1.080</td>\n",
       "      <td>0.012075</td>\n",
       "      <td>0.0128</td>\n",
       "      <td>0.013900</td>\n",
       "      <td>0.013455</td>\n",
       "    </tr>\n",
       "    <tr>\n",
       "      <th>4</th>\n",
       "      <td>1.085</td>\n",
       "      <td>0.009195</td>\n",
       "      <td>0.0101</td>\n",
       "      <td>0.010952</td>\n",
       "      <td>0.010745</td>\n",
       "    </tr>\n",
       "  </tbody>\n",
       "</table>\n",
       "</div>"
      ],
      "text/plain": [
       "   EURUSD Strike  Heston Price  investing.com Price  BS Price  VV Price\n",
       "0          1.065      0.022874               0.0233  0.025015  0.023669\n",
       "1          1.070      0.018981               0.0195  0.020973  0.019956\n",
       "2          1.075      0.015359               0.0160  0.017252  0.016537\n",
       "3          1.080      0.012075               0.0128  0.013900  0.013455\n",
       "4          1.085      0.009195               0.0101  0.010952  0.010745"
      ]
     },
     "execution_count": 10,
     "metadata": {},
     "output_type": "execute_result"
    }
   ],
   "source": [
    "# Benchmark prices\n",
    "# EURUSD\n",
    "bmpEU1=[0.022874,0.018981,0.015359,0.012075,0.009195]  # Bloomberg\n",
    "bmpEU2=[0.0233,0.0195,0.0160,0.0128,0.0101] # inversting.com\n",
    "\n",
    "# Create dataframe\n",
    "df1M=pd.DataFrame({\"EURUSD Strike\":K_ATMEURUSD,\"VV Price\":price_EURUSD,\n",
    "                  \"BS Price\":BS_EURUSD,\"Heston Price\":bmpEU1,\n",
    "                 \"investing.com Price\":bmpEU2})\n",
    "cols=['EURUSD Strike',\"Heston Price\",\"investing.com Price\",\"BS Price\",'VV Price']\n",
    "# Change the columns order\n",
    "dfres=df1M[cols]\n",
    "dfres"
   ]
  },
  {
   "cell_type": "code",
   "execution_count": 11,
   "metadata": {
    "collapsed": false
   },
   "outputs": [
    {
     "data": {
      "image/png": "[encoded data removed]",
      "text/plain": [
       "<matplotlib.figure.Figure at 0x10f0aeac8>"
      ]
     },
     "metadata": {},
     "output_type": "display_data"
    }
   ],
   "source": [
    "# Plot the four prices\n",
    "plt.figure(1, figsize=(12,5))\n",
    "plt.plot(dfres.iloc[:,0],dfres.iloc[:,1],'k-',\n",
    "        dfres.iloc[:,0],dfres.iloc[:,2],'b-',\n",
    "        dfres.iloc[:,0],dfres.iloc[:,3],'g-',\n",
    "        dfres.iloc[:,0],dfres.iloc[:,4],'r-')\n",
    "plt.title(\"EUR/USD call option prices with 1M maturity\")\n",
    "plt.xlabel(\"Strike\")\n",
    "plt.ylabel(\"Call option price\")\n",
    "plt.legend(['Heston','investing.com','Black-Scholes','Vanna-Volga'],loc='best')\n",
    "plt.show()"
   ]
  },
  {
   "cell_type": "code",
   "execution_count": 12,
   "metadata": {
    "collapsed": false
   },
   "outputs": [],
   "source": [
    "# Compute 1Y prices\n",
    "# Get the indices of vols\n",
    "ind2=[1,6,7,8,9]\n",
    "vol_EURUSD1Y=[df2.iloc[0,i] for i in ind2 ]\n",
    "\n",
    "# Get the price of EUR/USD\n",
    "price_EURUSD1Y=VannaVolga_Pricing(K_ATMEURUSD1Y,S0s1Y[0],T1Y,rds[0],rfs[0],vol_EURUSD1Y)\n",
    "price_EURUSD1Y=[i/S0s[0] for i in price_EURUSD1Y]\n",
    "\n",
    "# Get the BS price of EUR/USD\n",
    "BS_EURUSD1Y=[BS_FX(0,S0s1Y[0],K,T1Y,vol_EURUSD1Y[0],rds[0],rfs[0],\"CALL\",\"PRICE\") for K in K_ATMEURUSD1Y]\n"
   ]
  },
  {
   "cell_type": "code",
   "execution_count": 13,
   "metadata": {
    "collapsed": false
   },
   "outputs": [
    {
     "data": {
      "text/html": [
       "<div>\n",
       "<table border=\"1\" class=\"dataframe\">\n",
       "  <thead>\n",
       "    <tr style=\"text-align: right;\">\n",
       "      <th></th>\n",
       "      <th>EURUSD Strike</th>\n",
       "      <th>Heston Price</th>\n",
       "      <th>investing.com Price</th>\n",
       "      <th>BS Price</th>\n",
       "      <th>VV Price</th>\n",
       "    </tr>\n",
       "  </thead>\n",
       "  <tbody>\n",
       "    <tr>\n",
       "      <th>0</th>\n",
       "      <td>1.05</td>\n",
       "      <td>0.069127</td>\n",
       "      <td>0.0695</td>\n",
       "      <td>0.068459</td>\n",
       "      <td>0.061994</td>\n",
       "    </tr>\n",
       "    <tr>\n",
       "      <th>1</th>\n",
       "      <td>1.06</td>\n",
       "      <td>0.062125</td>\n",
       "      <td>0.0623</td>\n",
       "      <td>0.061221</td>\n",
       "      <td>0.055332</td>\n",
       "    </tr>\n",
       "    <tr>\n",
       "      <th>2</th>\n",
       "      <td>1.07</td>\n",
       "      <td>0.055455</td>\n",
       "      <td>0.0555</td>\n",
       "      <td>0.054409</td>\n",
       "      <td>0.049060</td>\n",
       "    </tr>\n",
       "    <tr>\n",
       "      <th>3</th>\n",
       "      <td>1.08</td>\n",
       "      <td>0.049155</td>\n",
       "      <td>0.0490</td>\n",
       "      <td>0.048046</td>\n",
       "      <td>0.043198</td>\n",
       "    </tr>\n",
       "    <tr>\n",
       "      <th>4</th>\n",
       "      <td>1.09</td>\n",
       "      <td>0.043257</td>\n",
       "      <td>0.0429</td>\n",
       "      <td>0.042149</td>\n",
       "      <td>0.037756</td>\n",
       "    </tr>\n",
       "  </tbody>\n",
       "</table>\n",
       "</div>"
      ],
      "text/plain": [
       "   EURUSD Strike  Heston Price  investing.com Price  BS Price  VV Price\n",
       "0           1.05      0.069127               0.0695  0.068459  0.061994\n",
       "1           1.06      0.062125               0.0623  0.061221  0.055332\n",
       "2           1.07      0.055455               0.0555  0.054409  0.049060\n",
       "3           1.08      0.049155               0.0490  0.048046  0.043198\n",
       "4           1.09      0.043257               0.0429  0.042149  0.037756"
      ]
     },
     "execution_count": 13,
     "metadata": {},
     "output_type": "execute_result"
    }
   ],
   "source": [
    "# Benchmark prices\n",
    "# EURUSD\n",
    "bmpEU1Y1=[0.069127,0.062125,0.055455,0.049155,0.043257]  # Bloomberg\n",
    "bmpEU1Y2=[0.0695,0.0623,0.0555,0.0490,0.0429] # inversting.com\n",
    "\n",
    "# Create dataframe\n",
    "df1Y=pd.DataFrame({\"EURUSD Strike\":K_ATMEURUSD1Y,\"VV Price\":price_EURUSD1Y,\n",
    "                  \"BS Price\":BS_EURUSD1Y,\"Heston Price\":bmpEU1Y1,\n",
    "                 \"investing.com Price\":bmpEU1Y2})\n",
    "cols=['EURUSD Strike',\"Heston Price\",\"investing.com Price\",\"BS Price\",'VV Price']\n",
    "# Change the columns order\n",
    "dfres1Y=df1Y[cols]\n",
    "dfres1Y"
   ]
  },
  {
   "cell_type": "code",
   "execution_count": 14,
   "metadata": {
    "collapsed": false
   },
   "outputs": [
    {
     "data": {
      "image/png": "[encoded data removed]",
      "text/plain": [
       "<matplotlib.figure.Figure at 0x1126486a0>"
      ]
     },
     "metadata": {},
     "output_type": "display_data"
    }
   ],
   "source": [
    "# Plot the four prices\n",
    "plt.figure(1, figsize=(12,5))\n",
    "plt.plot(dfres1Y.iloc[:,0],dfres1Y.iloc[:,1],'k-',\n",
    "        dfres1Y.iloc[:,0],dfres1Y.iloc[:,2],'b-',\n",
    "        dfres1Y.iloc[:,0],dfres1Y.iloc[:,3],'g-',\n",
    "        dfres1Y.iloc[:,0],dfres1Y.iloc[:,4],'r-')\n",
    "plt.title(\"EUR/USD call option prices with 1Y maturity\")\n",
    "plt.xlabel(\"Strike\")\n",
    "plt.ylabel(\"Call option price\")\n",
    "plt.legend(['Heston','investing.com','Black-Scholes','Vanna-Volga'],loc='best')\n",
    "plt.show()"
   ]
  },
  {
   "cell_type": "code",
   "execution_count": null,
   "metadata": {
    "collapsed": true
   },
   "outputs": [],
   "source": []
  }
 ],
 "metadata": {
  "kernelspec": {
   "display_name": "Python [default]",
   "language": "python",
   "name": "python3"
  },
  "language_info": {
   "codemirror_mode": {
    "name": "ipython",
    "version": 3
   },
   "file_extension": ".py",
   "mimetype": "text/x-python",
   "name": "python",
   "nbconvert_exporter": "python",
   "pygments_lexer": "ipython3",
   "version": "3.5.2"
  }
 },
 "nbformat": 4,
 "nbformat_minor": 2
}
